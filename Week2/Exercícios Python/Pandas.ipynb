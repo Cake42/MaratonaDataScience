{
 "cells": [
  {
   "cell_type": "code",
   "execution_count": 1,
   "metadata": {},
   "outputs": [
    {
     "name": "stdout",
     "output_type": "stream",
     "text": [
      "0.23.4\n"
     ]
    }
   ],
   "source": [
    "# Fácil\n",
    "# 1\n",
    "import pandas as pd\n",
    "print(pd.__version__)"
   ]
  },
  {
   "cell_type": "code",
   "execution_count": 5,
   "metadata": {},
   "outputs": [
    {
     "name": "stdout",
     "output_type": "stream",
     "text": [
      "0     a\n",
      "1     b\n",
      "2     c\n",
      "3     e\n",
      "4     d\n",
      "5     f\n",
      "6     g\n",
      "7     h\n",
      "8     i\n",
      "9     j\n",
      "10    k\n",
      "11    l\n",
      "12    m\n",
      "13    n\n",
      "14    o\n",
      "15    p\n",
      "16    q\n",
      "17    r\n",
      "18    s\n",
      "19    t\n",
      "20    u\n",
      "21    v\n",
      "22    w\n",
      "23    x\n",
      "24    y\n",
      "25    z\n",
      "dtype: object\n",
      "0      0\n",
      "1      1\n",
      "2      2\n",
      "3      3\n",
      "4      4\n",
      "5      5\n",
      "6      6\n",
      "7      7\n",
      "8      8\n",
      "9      9\n",
      "10    10\n",
      "11    11\n",
      "12    12\n",
      "13    13\n",
      "14    14\n",
      "15    15\n",
      "16    16\n",
      "17    17\n",
      "18    18\n",
      "19    19\n",
      "20    20\n",
      "21    21\n",
      "22    22\n",
      "23    23\n",
      "24    24\n",
      "25    25\n",
      "dtype: int32\n",
      "a     0\n",
      "b     1\n",
      "c     2\n",
      "e     3\n",
      "d     4\n",
      "f     5\n",
      "g     6\n",
      "h     7\n",
      "i     8\n",
      "j     9\n",
      "k    10\n",
      "l    11\n",
      "m    12\n",
      "n    13\n",
      "o    14\n",
      "p    15\n",
      "q    16\n",
      "r    17\n",
      "s    18\n",
      "t    19\n",
      "u    20\n",
      "v    21\n",
      "w    22\n",
      "x    23\n",
      "y    24\n",
      "z    25\n",
      "dtype: int64\n"
     ]
    }
   ],
   "source": [
    "# 2\n",
    "import numpy as np\n",
    "\n",
    "minhalista = list(\"abcedfghijklmnopqrstuvwxyz\")\n",
    "meuarr = np.arange(26)\n",
    "meudict = dict(zip(minhalista, meuarr))\n",
    "s1 = pd.Series(minhalista)\n",
    "s2 = pd.Series(meuarr)\n",
    "s3 = pd.Series(meudict)\n",
    "print(s1)\n",
    "print(s2)\n",
    "print(s3)"
   ]
  },
  {
   "cell_type": "code",
   "execution_count": 17,
   "metadata": {},
   "outputs": [
    {
     "data": {
      "text/html": [
       "<div>\n",
       "<style scoped>\n",
       "    .dataframe tbody tr th:only-of-type {\n",
       "        vertical-align: middle;\n",
       "    }\n",
       "\n",
       "    .dataframe tbody tr th {\n",
       "        vertical-align: top;\n",
       "    }\n",
       "\n",
       "    .dataframe thead th {\n",
       "        text-align: right;\n",
       "    }\n",
       "</style>\n",
       "<table border=\"1\" class=\"dataframe\">\n",
       "  <thead>\n",
       "    <tr style=\"text-align: right;\">\n",
       "      <th></th>\n",
       "      <th>0</th>\n",
       "      <th>i</th>\n",
       "    </tr>\n",
       "  </thead>\n",
       "  <tbody>\n",
       "    <tr>\n",
       "      <th>a</th>\n",
       "      <td>0</td>\n",
       "      <td>a</td>\n",
       "    </tr>\n",
       "    <tr>\n",
       "      <th>b</th>\n",
       "      <td>1</td>\n",
       "      <td>b</td>\n",
       "    </tr>\n",
       "    <tr>\n",
       "      <th>c</th>\n",
       "      <td>2</td>\n",
       "      <td>c</td>\n",
       "    </tr>\n",
       "    <tr>\n",
       "      <th>e</th>\n",
       "      <td>3</td>\n",
       "      <td>e</td>\n",
       "    </tr>\n",
       "    <tr>\n",
       "      <th>d</th>\n",
       "      <td>4</td>\n",
       "      <td>d</td>\n",
       "    </tr>\n",
       "    <tr>\n",
       "      <th>f</th>\n",
       "      <td>5</td>\n",
       "      <td>f</td>\n",
       "    </tr>\n",
       "    <tr>\n",
       "      <th>g</th>\n",
       "      <td>6</td>\n",
       "      <td>g</td>\n",
       "    </tr>\n",
       "    <tr>\n",
       "      <th>h</th>\n",
       "      <td>7</td>\n",
       "      <td>h</td>\n",
       "    </tr>\n",
       "    <tr>\n",
       "      <th>i</th>\n",
       "      <td>8</td>\n",
       "      <td>i</td>\n",
       "    </tr>\n",
       "    <tr>\n",
       "      <th>j</th>\n",
       "      <td>9</td>\n",
       "      <td>j</td>\n",
       "    </tr>\n",
       "    <tr>\n",
       "      <th>k</th>\n",
       "      <td>10</td>\n",
       "      <td>k</td>\n",
       "    </tr>\n",
       "    <tr>\n",
       "      <th>l</th>\n",
       "      <td>11</td>\n",
       "      <td>l</td>\n",
       "    </tr>\n",
       "    <tr>\n",
       "      <th>m</th>\n",
       "      <td>12</td>\n",
       "      <td>m</td>\n",
       "    </tr>\n",
       "    <tr>\n",
       "      <th>n</th>\n",
       "      <td>13</td>\n",
       "      <td>n</td>\n",
       "    </tr>\n",
       "    <tr>\n",
       "      <th>o</th>\n",
       "      <td>14</td>\n",
       "      <td>o</td>\n",
       "    </tr>\n",
       "    <tr>\n",
       "      <th>p</th>\n",
       "      <td>15</td>\n",
       "      <td>p</td>\n",
       "    </tr>\n",
       "    <tr>\n",
       "      <th>q</th>\n",
       "      <td>16</td>\n",
       "      <td>q</td>\n",
       "    </tr>\n",
       "    <tr>\n",
       "      <th>r</th>\n",
       "      <td>17</td>\n",
       "      <td>r</td>\n",
       "    </tr>\n",
       "    <tr>\n",
       "      <th>s</th>\n",
       "      <td>18</td>\n",
       "      <td>s</td>\n",
       "    </tr>\n",
       "    <tr>\n",
       "      <th>t</th>\n",
       "      <td>19</td>\n",
       "      <td>t</td>\n",
       "    </tr>\n",
       "    <tr>\n",
       "      <th>u</th>\n",
       "      <td>20</td>\n",
       "      <td>u</td>\n",
       "    </tr>\n",
       "    <tr>\n",
       "      <th>v</th>\n",
       "      <td>21</td>\n",
       "      <td>v</td>\n",
       "    </tr>\n",
       "    <tr>\n",
       "      <th>w</th>\n",
       "      <td>22</td>\n",
       "      <td>w</td>\n",
       "    </tr>\n",
       "    <tr>\n",
       "      <th>x</th>\n",
       "      <td>23</td>\n",
       "      <td>x</td>\n",
       "    </tr>\n",
       "    <tr>\n",
       "      <th>y</th>\n",
       "      <td>24</td>\n",
       "      <td>y</td>\n",
       "    </tr>\n",
       "    <tr>\n",
       "      <th>z</th>\n",
       "      <td>25</td>\n",
       "      <td>z</td>\n",
       "    </tr>\n",
       "  </tbody>\n",
       "</table>\n",
       "</div>"
      ],
      "text/plain": [
       "    0  i\n",
       "a   0  a\n",
       "b   1  b\n",
       "c   2  c\n",
       "e   3  e\n",
       "d   4  d\n",
       "f   5  f\n",
       "g   6  g\n",
       "h   7  h\n",
       "i   8  i\n",
       "j   9  j\n",
       "k  10  k\n",
       "l  11  l\n",
       "m  12  m\n",
       "n  13  n\n",
       "o  14  o\n",
       "p  15  p\n",
       "q  16  q\n",
       "r  17  r\n",
       "s  18  s\n",
       "t  19  t\n",
       "u  20  u\n",
       "v  21  v\n",
       "w  22  w\n",
       "x  23  x\n",
       "y  24  y\n",
       "z  25  z"
      ]
     },
     "execution_count": 17,
     "metadata": {},
     "output_type": "execute_result"
    }
   ],
   "source": [
    "# 3\n",
    "ser = pd.Series(meudict)\n",
    "\n",
    "pd.DataFrame(ser).assign(i = ser.keys())"
   ]
  },
  {
   "cell_type": "code",
   "execution_count": 21,
   "metadata": {},
   "outputs": [
    {
     "data": {
      "text/plain": [
       "0      a\n",
       "1      b\n",
       "2      c\n",
       "3      e\n",
       "4      d\n",
       "5      f\n",
       "6      g\n",
       "7      h\n",
       "8      i\n",
       "9      j\n",
       "10     k\n",
       "11     l\n",
       "12     m\n",
       "13     n\n",
       "14     o\n",
       "15     p\n",
       "16     q\n",
       "17     r\n",
       "18     s\n",
       "19     t\n",
       "20     u\n",
       "21     v\n",
       "22     w\n",
       "23     x\n",
       "24     y\n",
       "25     z\n",
       "0      0\n",
       "1      1\n",
       "2      2\n",
       "3      3\n",
       "4      4\n",
       "5      5\n",
       "6      6\n",
       "7      7\n",
       "8      8\n",
       "9      9\n",
       "10    10\n",
       "11    11\n",
       "12    12\n",
       "13    13\n",
       "14    14\n",
       "15    15\n",
       "16    16\n",
       "17    17\n",
       "18    18\n",
       "19    19\n",
       "20    20\n",
       "21    21\n",
       "22    22\n",
       "23    23\n",
       "24    24\n",
       "25    25\n",
       "dtype: object"
      ]
     },
     "execution_count": 21,
     "metadata": {},
     "output_type": "execute_result"
    }
   ],
   "source": [
    "# 4\n",
    "ser1 = pd.Series(list(\"abcedfghijklmnopqrstuvwxyz\"))\n",
    "ser2 = pd.Series(np.arange(26))\n",
    "\n",
    "pd.concat([ser1, ser2])"
   ]
  },
  {
   "cell_type": "code",
   "execution_count": 25,
   "metadata": {},
   "outputs": [
    {
     "data": {
      "text/plain": [
       "{1, 2, 3}"
      ]
     },
     "execution_count": 25,
     "metadata": {},
     "output_type": "execute_result"
    }
   ],
   "source": [
    "# Médio\n",
    "# 1\n",
    "ser1 = pd.Series([1, 2, 3, 4, 5])\n",
    "ser2 = pd.Series([4, 5, 6, 7, 8])\n",
    "\n",
    "set(ser1) - set(ser2)"
   ]
  },
  {
   "cell_type": "code",
   "execution_count": 26,
   "metadata": {},
   "outputs": [
    {
     "data": {
      "text/plain": [
       "{1, 2, 3, 6, 7, 8}"
      ]
     },
     "execution_count": 26,
     "metadata": {},
     "output_type": "execute_result"
    }
   ],
   "source": [
    "# 2\n",
    "set.symmetric_difference(set(ser1), set(ser2))"
   ]
  },
  {
   "cell_type": "code",
   "execution_count": 30,
   "metadata": {},
   "outputs": [
    {
     "name": "stdout",
     "output_type": "stream",
     "text": [
      "min: 0.18143618049190735\n",
      "25%: 6.963268574002163\n",
      "median: 9.751696342979182\n",
      "75%: 13.094436990801146\n",
      "max: 17.964421722664362\n"
     ]
    }
   ],
   "source": [
    "# 3\n",
    "ser = pd.Series(np.random.normal(10, 5, 25))\n",
    "print(\"min:\", ser.min())\n",
    "print(\"25%:\", ser.quantile(0.25))\n",
    "print(\"median:\", ser.median())\n",
    "print(\"75%:\", ser.quantile(0.75))\n",
    "print(\"max:\", ser.max())"
   ]
  },
  {
   "cell_type": "code",
   "execution_count": 75,
   "metadata": {},
   "outputs": [
    {
     "name": "stdout",
     "output_type": "stream",
     "text": [
      "0     3\n",
      "1     2\n",
      "2     4\n",
      "3     3\n",
      "4     1\n",
      "5     1\n",
      "6     3\n",
      "7     4\n",
      "8     3\n",
      "9     4\n",
      "10    3\n",
      "11    4\n",
      "dtype: int32\n",
      "[(5, 4), (4, 3), (2, 3), (1, 2)]\n"
     ]
    },
    {
     "data": {
      "text/plain": [
       "0         3\n",
       "1     Outro\n",
       "2         4\n",
       "3         3\n",
       "4     Outro\n",
       "5     Outro\n",
       "6         3\n",
       "7         4\n",
       "8         3\n",
       "9         4\n",
       "10        3\n",
       "11        4\n",
       "dtype: object"
      ]
     },
     "execution_count": 75,
     "metadata": {},
     "output_type": "execute_result"
    }
   ],
   "source": [
    "# 4\n",
    "np.random.RandomState(100)\n",
    "ser = pd.Series(np.random.randint(1, 5, [12]))\n",
    "print(ser)\n",
    "\n",
    "freq = [0] * 4\n",
    "for i in range(len(ser)):\n",
    "    freq[ser[i] - 1] += 1\n",
    "\n",
    "freq = sorted(zip(freq, ser), reverse = True)\n",
    "print(freq)\n",
    "ser.apply(lambda e: e if e == freq[0][1] or e == freq[1][1] else \"Outro\")"
   ]
  },
  {
   "cell_type": "code",
   "execution_count": 79,
   "metadata": {},
   "outputs": [
    {
     "data": {
      "text/plain": [
       "0      2nd\n",
       "1      1st\n",
       "2      1st\n",
       "3      7th\n",
       "4      5th\n",
       "5      6th\n",
       "6      2nd\n",
       "7      7th\n",
       "8     10th\n",
       "9     10th\n",
       "10     3rd\n",
       "11     6th\n",
       "12     9th\n",
       "13     5th\n",
       "14     8th\n",
       "15     9th\n",
       "16     4th\n",
       "17     4th\n",
       "18     3rd\n",
       "19     8th\n",
       "dtype: category\n",
       "Categories (10, object): [1st < 2nd < 3rd < 4th ... 7th < 8th < 9th < 10th]"
      ]
     },
     "execution_count": 79,
     "metadata": {},
     "output_type": "execute_result"
    }
   ],
   "source": [
    "# 5\n",
    "ser = pd.Series(np.random.random(20))\n",
    "pd.qcut(ser, 10, labels = [\"1st\", \"2nd\", \"3rd\", \"4th\", \"5th\", \"6th\", \"7th\", \"8th\", \"9th\", \"10th\"])"
   ]
  },
  {
   "cell_type": "code",
   "execution_count": 88,
   "metadata": {},
   "outputs": [
    {
     "data": {
      "text/plain": [
       "0     Apple\n",
       "1    Orange\n",
       "4     Money\n",
       "dtype: object"
      ]
     },
     "execution_count": 88,
     "metadata": {},
     "output_type": "execute_result"
    }
   ],
   "source": [
    "# Difícil\n",
    "# 1\n",
    "ser = pd.Series([\"Apple\", \"Orange\", \"Plan\", \"Python\", \"Money\"])\n",
    "def count_vowels(str):\n",
    "    count = 0;\n",
    "    for letter in str:\n",
    "        if letter in \"aeiouAEIOU\":\n",
    "            count += 1\n",
    "    return count\n",
    "        \n",
    "ser[ser.apply(lambda e: count_vowels(e) >= 2)]"
   ]
  },
  {
   "cell_type": "code",
   "execution_count": 104,
   "metadata": {},
   "outputs": [
    {
     "data": {
      "text/plain": [
       "1    rameses@egypt.com\n",
       "2            matt@t.co\n",
       "3    narendra@modi.com\n",
       "dtype: object"
      ]
     },
     "execution_count": 104,
     "metadata": {},
     "output_type": "execute_result"
    }
   ],
   "source": [
    "# 2\n",
    "import re\n",
    "\n",
    "emails = pd.Series([\"buying books at amazom.com\", \"rameses@egypt.com\", \"matt@t.co\", \"narendra@modi.com\"])\n",
    "padrao = \"[A-Za-z0-9._%+-]+@[A-Za-z0-9.-]+\\\\.[A-Za-z]{2,4}\"\n",
    "emails.apply(lambda e: re.search(padrao, e)).apply(lambda e: e.group() if e != None else None).dropna()"
   ]
  },
  {
   "cell_type": "code",
   "execution_count": 128,
   "metadata": {},
   "outputs": [
    {
     "data": {
      "text/plain": [
       "array([1, 5, 7], dtype=int64)"
      ]
     },
     "execution_count": 128,
     "metadata": {},
     "output_type": "execute_result"
    }
   ],
   "source": [
    "# 3\n",
    "ser = pd.Series([2, 10, 3, 4, 9, 10, 2, 7, 3])\n",
    "a = ser.shift(1)\n",
    "b = ser.shift(-1)\n",
    "ser[(ser > a) & (ser > b)].index.values"
   ]
  },
  {
   "cell_type": "code",
   "execution_count": null,
   "metadata": {},
   "outputs": [],
   "source": []
  }
 ],
 "metadata": {
  "kernelspec": {
   "display_name": "Python 3",
   "language": "python",
   "name": "python3"
  },
  "language_info": {
   "codemirror_mode": {
    "name": "ipython",
    "version": 3
   },
   "file_extension": ".py",
   "mimetype": "text/x-python",
   "name": "python",
   "nbconvert_exporter": "python",
   "pygments_lexer": "ipython3",
   "version": "3.6.5"
  }
 },
 "nbformat": 4,
 "nbformat_minor": 2
}
